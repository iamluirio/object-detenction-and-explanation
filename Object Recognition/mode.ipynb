{
 "cells": [
  {
   "cell_type": "markdown",
   "metadata": {},
   "source": [
    "https://www.kaggle.com/code/datajameson/cifar-10-object-recognition-cnn-explained"
   ]
  }
 ],
 "metadata": {
  "kernelspec": {
   "display_name": "objectdet",
   "language": "python",
   "name": "python3"
  },
  "language_info": {
   "name": "python",
   "version": "3.11.9"
  }
 },
 "nbformat": 4,
 "nbformat_minor": 2
}
