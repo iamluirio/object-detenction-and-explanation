{
 "cells": [
  {
   "cell_type": "markdown",
   "metadata": {},
   "source": [
    "# Face Detection with OpenCV"
   ]
  },
  {
   "cell_type": "markdown",
   "metadata": {},
   "source": [
    "**Facial recognition** is an artificial intelligence technique, used in biometrics to identify or verify the identity of a person starting from one or more images that portray them.\n",
    "\n",
    "Recognition usually occurs through digital image processing techniques, ignoring everything that does not represent a face, such as buildings, trees, bodies, which are usually called backgrounds. It can be said that it is a pattern recognition, where the pattern to be recognized is the human face.\n",
    "\n",
    "To facilitate the identification of a face, the first systems took into account that a human face is composed of two eyes, a nose and a mouth. The most recent systems, however, are able to recognize a person even if their face is rotated, or in any case not in frontal vision.\n"
   ]
  },
  {
   "cell_type": "markdown",
   "metadata": {},
   "source": [
    "https://www.kaggle.com/code/serkanpeldek/face-detection-with-opencv"
   ]
  }
 ],
 "metadata": {
  "kernelspec": {
   "display_name": "keras_ocr_env",
   "language": "python",
   "name": "python3"
  },
  "language_info": {
   "name": "python",
   "version": "3.11.10"
  }
 },
 "nbformat": 4,
 "nbformat_minor": 2
}
