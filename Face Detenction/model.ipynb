{
 "cells": [
  {
   "cell_type": "markdown",
   "metadata": {},
   "source": [
    "# Face Detection with OpenCV"
   ]
  },
  {
   "cell_type": "markdown",
   "metadata": {},
   "source": [
    "**Facial recognition** is an artificial intelligence technique, used in biometrics to identify or verify the identity of a person starting from one or more images that portray them.\n",
    "\n",
    "Recognition usually occurs through digital image processing techniques, ignoring everything that does not represent a face, such as buildings, trees, bodies, which are usually called backgrounds. It can be said that it is a pattern recognition, where the pattern to be recognized is the human face.\n",
    "\n",
    "To facilitate the identification of a face, the first systems took into account that a human face is composed of two eyes, a nose and a mouth. The most recent systems, however, are able to recognize a person even if their face is rotated, or in any case not in frontal vision.\n"
   ]
  },
  {
   "cell_type": "markdown",
   "metadata": {},
   "source": [
    "https://www.kaggle.com/code/serkanpeldek/face-detection-with-opencv"
   ]
  },
  {
   "cell_type": "markdown",
   "metadata": {},
   "source": [
    "In this study, face detection is performed **from the images in the LFW data set**. "
   ]
  },
  {
   "cell_type": "markdown",
   "metadata": {},
   "source": [
    "### Face Detector Class"
   ]
  },
  {
   "cell_type": "markdown",
   "metadata": {},
   "source": [
    "**The ```haarcascade_frontalface_default.xml```** file is **an XML template that contains pre-trained data for face detection using OpenCV Haar Cascade classifiers**. This type of model exploits Haar features (feature-based) and a cascade classification technique, useful for real-time processing and widely used for face detection, even on devices with limited resources.\n",
    "\n",
    "In addition to haarcascade_frontalface_default.xml, OpenCV offers additional Haar Cascade models specifically for face and face part detection:\n",
    "\n",
    "- ```haarcascade_frontalface_alt.xml``` and ```haarcascade_frontalface_alt2.xml``` – Alternative versions to improve accuracy over various face tilt angles.\n",
    "- ```haarcascade_profileface.xml``` – Detect the face in profile.\n",
    "- ```haarcascade_eye.xml``` and ```haarcascade_eye_tree_eyeglasses.xml``` – For eye detection, even with glasses.\n",
    "- ```haarcascade_smile.xml``` – Specifically for smile detection."
   ]
  },
  {
   "cell_type": "code",
   "execution_count": 8,
   "metadata": {},
   "outputs": [],
   "source": [
    "import cv2\n",
    "import numpy as np\n",
    "import os"
   ]
  },
  {
   "cell_type": "code",
   "execution_count": 4,
   "metadata": {},
   "outputs": [],
   "source": [
    "cascade_dir = \"/home/pierluigi/Documents/models/Face Detenction/haarcascades\""
   ]
  },
  {
   "cell_type": "code",
   "execution_count": 5,
   "metadata": {},
   "outputs": [],
   "source": [
    "cascade_files = [\n",
    "    \"haarcascade_eye_tree_eyeglasses.xml\", \"haarcascade_eye.xml\",\n",
    "    \"haarcascade_frontalface_alt2.xml\", \"haarcascade_frontalface_alt_tree.xml\",\n",
    "    \"haarcascade_frontalface_alt.xml\", \"haarcascade_frontalface_default.xml\",\n",
    "    \"haarcascade_fullbody.xml\", \"haarcascade_lefteye_2splits.xml\",\n",
    "    \"haarcascade_lowerbody.xml\", \"haarcascade_mcs_eyepair_big.xml\",\n",
    "    \"haarcascade_mcs_eyepair_small.xml\", \"haarcascade_mcs_leftear.xml\",\n",
    "    \"haarcascade_mcs_lefteye.xml\", \"haarcascade_mcs_mouth.xml\",\n",
    "    \"haarcascade_mcs_nose.xml\", \"haarcascade_mcs_rightear.xml\",\n",
    "    \"haarcascade_mcs_righteye.xml\", \"haarcascade_mcs_upperbody.xml\",\n",
    "    \"haarcascade_profileface.xml\", \"haarcascade_righteye_2splits.xml\",\n",
    "    \"haarcascade_smile.xml\", \"haarcascade_upperbody.xml\"\n",
    "]"
   ]
  },
  {
   "cell_type": "code",
   "execution_count": 6,
   "metadata": {},
   "outputs": [
    {
     "name": "stdout",
     "output_type": "stream",
     "text": [
      "haarcascade_eye_tree_eyeglasses loaded: True\n",
      "haarcascade_eye loaded: True\n",
      "haarcascade_frontalface_alt2 loaded: True\n",
      "haarcascade_frontalface_alt_tree loaded: True\n",
      "haarcascade_frontalface_alt loaded: True\n",
      "haarcascade_frontalface_default loaded: True\n",
      "haarcascade_fullbody loaded: True\n",
      "haarcascade_lefteye_2splits loaded: True\n",
      "haarcascade_lowerbody loaded: True\n",
      "haarcascade_mcs_eyepair_big loaded: True\n",
      "haarcascade_mcs_eyepair_small loaded: True\n",
      "haarcascade_mcs_leftear loaded: True\n",
      "haarcascade_mcs_lefteye loaded: True\n",
      "haarcascade_mcs_mouth loaded: True\n",
      "haarcascade_mcs_nose loaded: True\n",
      "haarcascade_mcs_rightear loaded: True\n",
      "haarcascade_mcs_righteye loaded: True\n",
      "haarcascade_mcs_upperbody loaded: True\n",
      "haarcascade_profileface loaded: True\n",
      "haarcascade_righteye_2splits loaded: True\n",
      "haarcascade_smile loaded: True\n",
      "haarcascade_upperbody loaded: True\n"
     ]
    }
   ],
   "source": [
    "# Dizionario per contenere i detector\n",
    "detectors = {}\n",
    "\n",
    "# Carica ciascun file XML come CascadeClassifier e salva nel dizionario\n",
    "for file in cascade_files:\n",
    "    file_path = os.path.join(cascade_dir, file)\n",
    "    cascade_name = file.split('.')[0]  # Usa il nome senza estensione come chiave\n",
    "    detectors[cascade_name] = cv2.CascadeClassifier(file_path)\n",
    "    if detectors[cascade_name].empty():\n",
    "        print(f\"Warning: unable to load classifier from {file_path}\")\n",
    "\n",
    "# Verifica il caricamento dei detector\n",
    "for name, detector in detectors.items():\n",
    "    print(f\"{name} loaded: {not detector.empty()}\")"
   ]
  },
  {
   "cell_type": "markdown",
   "metadata": {},
   "source": [
    "The code defines a **FetchLFW class, which is used to load and manage a random number of images from the Labeled Faces in the Wild (LFW) dataset**, a dataset containing images of faces commonly used to train and test face recognition models."
   ]
  },
  {
   "cell_type": "code",
   "execution_count": 9,
   "metadata": {},
   "outputs": [],
   "source": [
    "class FetchLFW:\n",
    "    def __init__(self, path):\n",
    "        self.path = path  # Percorso alla cartella contenente le immagini\n",
    "    \n",
    "    def _initialize(self, dim):\n",
    "        self.dim_of_photo_gallery = dim\n",
    "        self.number_of_images = self.dim_of_photo_gallery * self.dim_of_photo_gallery\n",
    "        \n",
    "        image_files = [f for f in os.listdir(self.path) if f.endswith(\".jpg\")]\n",
    "        total_number_of_images = len(image_files)\n",
    "        \n",
    "        # Controllo sul numero di immagini richieste rispetto a quelle disponibili\n",
    "        if self.number_of_images > total_number_of_images:\n",
    "            raise ValueError(f\"Richiesto {self.number_of_images} immagini, ma ne sono disponibili solo {total_number_of_images}\")\n",
    "        \n",
    "        self.random_face_indexes = np.arange(total_number_of_images)\n",
    "        np.random.shuffle(self.random_face_indexes)\n",
    "        self.n_random_face_indexes = self.random_face_indexes[:self.number_of_images]\n",
    "        \n",
    "        self.image_files = [image_files[i] for i in self.n_random_face_indexes]\n",
    "        \n",
    "    def get_lfw_images(self, dim=5):\n",
    "        self._initialize(dim)\n",
    "        self.lfw_images = self._get_images()\n",
    "        return self.lfw_images\n",
    "        \n",
    "    def _get_images(self):\n",
    "        image_list = []\n",
    "        counter = 0\n",
    "        for filename in self.image_files:\n",
    "            file_path = os.path.join(self.path, filename)\n",
    "            image = cv2.imread(file_path, cv2.IMREAD_COLOR)\n",
    "            if image is not None:\n",
    "                # Ridimensiona l'immagine per ridurre l'uso della memoria\n",
    "                image = cv2.resize(image, None, fx=0.4, fy=0.4, interpolation=cv2.INTER_AREA)\n",
    "                image_list.append(np.array(image))\n",
    "            counter += 1\n",
    "        \n",
    "        return np.array(image_list)"
   ]
  },
  {
   "cell_type": "code",
   "execution_count": 11,
   "metadata": {},
   "outputs": [
    {
     "ename": "ValueError",
     "evalue": "Richiesto 25 immagini, ma ne sono disponibili solo 0",
     "output_type": "error",
     "traceback": [
      "\u001b[0;31m---------------------------------------------------------------------------\u001b[0m",
      "\u001b[0;31mValueError\u001b[0m                                Traceback (most recent call last)",
      "Cell \u001b[0;32mIn[11], line 4\u001b[0m\n\u001b[1;32m      2\u001b[0m dataset_path \u001b[38;5;241m=\u001b[39m \u001b[38;5;124m\"\u001b[39m\u001b[38;5;124m/home/pierluigi/Documents/datasets/Face Detenction/Frontalized_LFW\u001b[39m\u001b[38;5;124m\"\u001b[39m\n\u001b[1;32m      3\u001b[0m fetcher \u001b[38;5;241m=\u001b[39m FetchLFW(dataset_path)\n\u001b[0;32m----> 4\u001b[0m lfw_images \u001b[38;5;241m=\u001b[39m \u001b[43mfetcher\u001b[49m\u001b[38;5;241;43m.\u001b[39;49m\u001b[43mget_lfw_images\u001b[49m\u001b[43m(\u001b[49m\u001b[43mdim\u001b[49m\u001b[38;5;241;43m=\u001b[39;49m\u001b[38;5;241;43m5\u001b[39;49m\u001b[43m)\u001b[49m\n",
      "Cell \u001b[0;32mIn[9], line 23\u001b[0m, in \u001b[0;36mFetchLFW.get_lfw_images\u001b[0;34m(self, dim)\u001b[0m\n\u001b[1;32m     22\u001b[0m \u001b[38;5;28;01mdef\u001b[39;00m \u001b[38;5;21mget_lfw_images\u001b[39m(\u001b[38;5;28mself\u001b[39m, dim\u001b[38;5;241m=\u001b[39m\u001b[38;5;241m5\u001b[39m):\n\u001b[0;32m---> 23\u001b[0m     \u001b[38;5;28;43mself\u001b[39;49m\u001b[38;5;241;43m.\u001b[39;49m\u001b[43m_initialize\u001b[49m\u001b[43m(\u001b[49m\u001b[43mdim\u001b[49m\u001b[43m)\u001b[49m\n\u001b[1;32m     24\u001b[0m     \u001b[38;5;28mself\u001b[39m\u001b[38;5;241m.\u001b[39mlfw_images \u001b[38;5;241m=\u001b[39m \u001b[38;5;28mself\u001b[39m\u001b[38;5;241m.\u001b[39m_get_images()\n\u001b[1;32m     25\u001b[0m     \u001b[38;5;28;01mreturn\u001b[39;00m \u001b[38;5;28mself\u001b[39m\u001b[38;5;241m.\u001b[39mlfw_images\n",
      "Cell \u001b[0;32mIn[9], line 14\u001b[0m, in \u001b[0;36mFetchLFW._initialize\u001b[0;34m(self, dim)\u001b[0m\n\u001b[1;32m     12\u001b[0m \u001b[38;5;66;03m# Controllo sul numero di immagini richieste rispetto a quelle disponibili\u001b[39;00m\n\u001b[1;32m     13\u001b[0m \u001b[38;5;28;01mif\u001b[39;00m \u001b[38;5;28mself\u001b[39m\u001b[38;5;241m.\u001b[39mnumber_of_images \u001b[38;5;241m>\u001b[39m total_number_of_images:\n\u001b[0;32m---> 14\u001b[0m     \u001b[38;5;28;01mraise\u001b[39;00m \u001b[38;5;167;01mValueError\u001b[39;00m(\u001b[38;5;124mf\u001b[39m\u001b[38;5;124m\"\u001b[39m\u001b[38;5;124mRichiesto \u001b[39m\u001b[38;5;132;01m{\u001b[39;00m\u001b[38;5;28mself\u001b[39m\u001b[38;5;241m.\u001b[39mnumber_of_images\u001b[38;5;132;01m}\u001b[39;00m\u001b[38;5;124m immagini, ma ne sono disponibili solo \u001b[39m\u001b[38;5;132;01m{\u001b[39;00mtotal_number_of_images\u001b[38;5;132;01m}\u001b[39;00m\u001b[38;5;124m\"\u001b[39m)\n\u001b[1;32m     16\u001b[0m \u001b[38;5;28mself\u001b[39m\u001b[38;5;241m.\u001b[39mrandom_face_indexes \u001b[38;5;241m=\u001b[39m np\u001b[38;5;241m.\u001b[39marange(total_number_of_images)\n\u001b[1;32m     17\u001b[0m np\u001b[38;5;241m.\u001b[39mrandom\u001b[38;5;241m.\u001b[39mshuffle(\u001b[38;5;28mself\u001b[39m\u001b[38;5;241m.\u001b[39mrandom_face_indexes)\n",
      "\u001b[0;31mValueError\u001b[0m: Richiesto 25 immagini, ma ne sono disponibili solo 0"
     ]
    }
   ],
   "source": [
    "# Esempio di utilizzo\n",
    "dataset_path = \"/home/pierluigi/Documents/datasets/Face Detenction/Frontalized_LFW\"\n",
    "fetcher = FetchLFW(dataset_path)\n",
    "lfw_images = fetcher.get_lfw_images(dim=5)"
   ]
  }
 ],
 "metadata": {
  "kernelspec": {
   "display_name": "keras_ocr_env",
   "language": "python",
   "name": "python3"
  },
  "language_info": {
   "codemirror_mode": {
    "name": "ipython",
    "version": 3
   },
   "file_extension": ".py",
   "mimetype": "text/x-python",
   "name": "python",
   "nbconvert_exporter": "python",
   "pygments_lexer": "ipython3",
   "version": "3.11.10"
  }
 },
 "nbformat": 4,
 "nbformat_minor": 2
}
