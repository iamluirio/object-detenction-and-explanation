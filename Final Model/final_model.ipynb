{
 "cells": [
  {
   "cell_type": "markdown",
   "metadata": {},
   "source": [
    "# Final Model"
   ]
  },
  {
   "cell_type": "markdown",
   "metadata": {},
   "source": [
    "## Setup dello Script e Caricamento dei Modelli"
   ]
  },
  {
   "cell_type": "markdown",
   "metadata": {},
   "source": [
    "- Caricamento del modello di object recognition.\n",
    "- Caricamento del face detection con Haar Cascades.\n",
    "- Caricamento dei modelli per text recognition e number recognition.\n",
    "- Caricamento del chatbot per le domande sull’immagine."
   ]
  },
  {
   "cell_type": "code",
   "execution_count": 1,
   "metadata": {},
   "outputs": [
    {
     "name": "stderr",
     "output_type": "stream",
     "text": [
      "2024-11-05 01:44:44.008595: E external/local_xla/xla/stream_executor/cuda/cuda_fft.cc:477] Unable to register cuFFT factory: Attempting to register factory for plugin cuFFT when one has already been registered\n",
      "WARNING: All log messages before absl::InitializeLog() is called are written to STDERR\n",
      "E0000 00:00:1730767484.032560   11424 cuda_dnn.cc:8310] Unable to register cuDNN factory: Attempting to register factory for plugin cuDNN when one has already been registered\n",
      "E0000 00:00:1730767484.040328   11424 cuda_blas.cc:1418] Unable to register cuBLAS factory: Attempting to register factory for plugin cuBLAS when one has already been registered\n",
      "2024-11-05 01:44:44.063919: I tensorflow/core/platform/cpu_feature_guard.cc:210] This TensorFlow binary is optimized to use available CPU instructions in performance-critical operations.\n",
      "To enable the following instructions: AVX2 FMA, in other operations, rebuild TensorFlow with the appropriate compiler flags.\n"
     ]
    }
   ],
   "source": [
    "import cv2\n",
    "import numpy as np\n",
    "from tensorflow.keras.models import load_model\n",
    "from tensorflow.keras.activations import softmax\n",
    "from tensorflow.keras.layers import LSTM\n",
    "import tensorflow as tf\n",
    "import torch.nn.functional as F\n",
    "import torch\n",
    "import torch.nn as nn\n",
    "import os\n",
    "os.environ[\"CUDA_VISIBLE_DEVICES\"] = \"-1\"  # Disabilita la GPU"
   ]
  },
  {
   "cell_type": "code",
   "execution_count": 2,
   "metadata": {},
   "outputs": [],
   "source": [
    "# Percorsi dei modelli\n",
    "CHATBOT_MODEL_PATH = \"/home/pierluigi/Documents/models/Chatbot/vqa_model.h5\"\n",
    "FACE_CASCADE_PATH = \"/home/pierluigi/Documents/models/Face Detenction/haarcascades/haarcascade_frontalface_default.xml\"\n",
    "NUMBER_RECOGNITION_MODEL_PATH = \"/home/pierluigi/Documents/models/Number Recognition/number_recognition_model.h5\"\n",
    "TEXT_RECOGNITION_MODEL_PATH = \"/home/pierluigi/Documents/models/Text Recognition/text_recognition_model.h5\"\n",
    "OBJECT_RECOGNITION_MODEL_PATH = \"/home/pierluigi/Documents/models/Object Recognition/object_recognition_model.pth\""
   ]
  },
  {
   "cell_type": "code",
   "execution_count": 3,
   "metadata": {},
   "outputs": [
    {
     "name": "stdout",
     "output_type": "stream",
     "text": [
      "Modello Face Detection caricato correttamente.\n"
     ]
    }
   ],
   "source": [
    "# Caricamento del face detector\n",
    "face_cascade = cv2.CascadeClassifier(FACE_CASCADE_PATH)\n",
    "print(\"Modello Face Detection caricato correttamente.\")"
   ]
  },
  {
   "cell_type": "code",
   "execution_count": 4,
   "metadata": {},
   "outputs": [
    {
     "name": "stderr",
     "output_type": "stream",
     "text": [
      "2024-11-05 01:44:48.446690: E external/local_xla/xla/stream_executor/cuda/cuda_driver.cc:152] failed call to cuInit: INTERNAL: CUDA error: Failed call to cuInit: CUDA_ERROR_NO_DEVICE: no CUDA-capable device is detected\n",
      "2024-11-05 01:44:48.446730: I external/local_xla/xla/stream_executor/cuda/cuda_diagnostics.cc:137] retrieving CUDA diagnostic information for host: luirio-penguin\n",
      "2024-11-05 01:44:48.446737: I external/local_xla/xla/stream_executor/cuda/cuda_diagnostics.cc:144] hostname: luirio-penguin\n",
      "2024-11-05 01:44:48.446827: I external/local_xla/xla/stream_executor/cuda/cuda_diagnostics.cc:168] libcuda reported version is: 560.35.3\n",
      "2024-11-05 01:44:48.446843: I external/local_xla/xla/stream_executor/cuda/cuda_diagnostics.cc:172] kernel reported version is: 560.35.3\n",
      "2024-11-05 01:44:48.446847: I external/local_xla/xla/stream_executor/cuda/cuda_diagnostics.cc:259] kernel version seems to match DSO: 560.35.3\n",
      "WARNING:absl:Compiled the loaded model, but the compiled metrics have yet to be built. `model.compile_metrics` will be empty until you train or evaluate the model.\n"
     ]
    },
    {
     "name": "stdout",
     "output_type": "stream",
     "text": [
      "Modello Number Recognition caricato correttamente.\n"
     ]
    }
   ],
   "source": [
    "# Caricamento del modello di riconoscimento dei numeri con custom_objects\n",
    "number_recognition_model = load_model(\n",
    "    NUMBER_RECOGNITION_MODEL_PATH,\n",
    "    custom_objects={'softmax_v2': softmax}\n",
    ")\n",
    "\n",
    "print(\"Modello Number Recognition caricato correttamente.\")"
   ]
  },
  {
   "cell_type": "code",
   "execution_count": 5,
   "metadata": {},
   "outputs": [
    {
     "name": "stderr",
     "output_type": "stream",
     "text": [
      "WARNING:absl:Compiled the loaded model, but the compiled metrics have yet to be built. `model.compile_metrics` will be empty until you train or evaluate the model.\n"
     ]
    },
    {
     "name": "stdout",
     "output_type": "stream",
     "text": [
      "Modello Chatbot caricato correttamente.\n"
     ]
    }
   ],
   "source": [
    "# Caricamento del modello Chatbot\n",
    "chatbot_model = load_model(CHATBOT_MODEL_PATH)\n",
    "print(\"Modello Chatbot caricato correttamente.\")"
   ]
  },
  {
   "cell_type": "code",
   "execution_count": 14,
   "metadata": {},
   "outputs": [
    {
     "name": "stdout",
     "output_type": "stream",
     "text": [
      "Modello Object Recognition caricato correttamente.\n"
     ]
    },
    {
     "name": "stderr",
     "output_type": "stream",
     "text": [
      "/tmp/ipykernel_11424/58763373.py:35: FutureWarning: You are using `torch.load` with `weights_only=False` (the current default value), which uses the default pickle module implicitly. It is possible to construct malicious pickle data which will execute arbitrary code during unpickling (See https://github.com/pytorch/pytorch/blob/main/SECURITY.md#untrusted-models for more details). In a future release, the default value for `weights_only` will be flipped to `True`. This limits the functions that could be executed during unpickling. Arbitrary objects will no longer be allowed to be loaded via this mode unless they are explicitly allowlisted by the user via `torch.serialization.add_safe_globals`. We recommend you start setting `weights_only=True` for any use case where you don't have full control of the loaded file. Please open an issue on GitHub for any issues related to this experimental feature.\n",
      "  state_dict = torch.load(\"/home/pierluigi/Documents/models/Object Recognition/object_recognition_model.pth\", map_location=torch.device('cpu'))\n"
     ]
    }
   ],
   "source": [
    "import torch\n",
    "import torch.nn as nn\n",
    "\n",
    "class ObjectRecognitionModel(nn.Module):\n",
    "    def __init__(self):\n",
    "        super(ObjectRecognitionModel, self).__init__()\n",
    "        self.layers = nn.Sequential(\n",
    "            nn.Conv2d(3, 32, kernel_size=3, stride=1, padding=1),  # layers.0\n",
    "            nn.ReLU(),\n",
    "            nn.Conv2d(32, 64, kernel_size=3, stride=1, padding=1),  # layers.2\n",
    "            nn.ReLU(),\n",
    "            nn.Conv2d(64, 128, kernel_size=3, stride=1, padding=1),  # layers.4\n",
    "            nn.ReLU(),\n",
    "            nn.Conv2d(128, 128, kernel_size=3, stride=1, padding=1),  # layers.6\n",
    "            nn.ReLU(),\n",
    "            nn.Conv2d(128, 128, kernel_size=3, stride=1, padding=1),  # layers.8 (modificato per avere output di 128 canali)\n",
    "            nn.ReLU(),\n",
    "            nn.Conv2d(128, 256, kernel_size=3, stride=1, padding=1),  # layers.10 (input 128, output 256)\n",
    "            nn.ReLU(),\n",
    "            nn.Flatten(),\n",
    "            nn.Linear(256 * 16 * 16, 1024),  # layers.13\n",
    "            nn.ReLU(),\n",
    "            nn.Linear(1024, 512),            # layers.15\n",
    "            nn.ReLU(),\n",
    "            nn.Linear(512, 10)               # layers.17\n",
    "        )\n",
    "\n",
    "    def forward(self, x):\n",
    "        return self.layers(x)\n",
    "\n",
    "# Istanzia il modello\n",
    "object_recognition_model = ObjectRecognitionModel()\n",
    "\n",
    "# Carica il `state_dict`, rimuovendo il prefisso \"network.\" e sostituendolo con \"layers.\"\n",
    "state_dict = torch.load(\"/home/pierluigi/Documents/models/Object Recognition/object_recognition_model.pth\", map_location=torch.device('cpu'))\n",
    "new_state_dict = {k.replace(\"network.\", \"layers.\"): v for k, v in state_dict.items()}  # Rimuove \"network.\" e lo sostituisce con \"layers.\"\n",
    "\n",
    "# Carica i pesi nel modello\n",
    "object_recognition_model.load_state_dict(new_state_dict, strict=False)\n",
    "object_recognition_model.eval()  # Imposta il modello in modalità di valutazione\n",
    "\n",
    "print(\"Modello Object Recognition caricato correttamente.\")\n"
   ]
  }
 ],
 "metadata": {
  "kernelspec": {
   "display_name": "objectdet",
   "language": "python",
   "name": "python3"
  },
  "language_info": {
   "codemirror_mode": {
    "name": "ipython",
    "version": 3
   },
   "file_extension": ".py",
   "mimetype": "text/x-python",
   "name": "python",
   "nbconvert_exporter": "python",
   "pygments_lexer": "ipython3",
   "version": "3.11.10"
  }
 },
 "nbformat": 4,
 "nbformat_minor": 2
}
