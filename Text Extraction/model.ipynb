{
 "cells": [
  {
   "cell_type": "markdown",
   "metadata": {},
   "source": [
    "https://www.kaggle.com/code/mpwolke/keras-ocr-text-recognition/notebook"
   ]
  },
  {
   "cell_type": "markdown",
   "metadata": {},
   "source": [
    "https://www.kaggle.com/code/meetnagadia/extract-text-from-images/notebook"
   ]
  },
  {
   "cell_type": "markdown",
   "metadata": {},
   "source": [
    "# OCR Text Recognition"
   ]
  },
  {
   "cell_type": "markdown",
   "metadata": {},
   "source": [
    "An **OCR Program** is a tool that **extracts and re-purposes data from scanned documents, camera images, and image-only pdf**. An OCR system uses a combination of hardware, such as optical scanners and software capable of image processing.\"\n",
    "\n",
    "For text extraction, the OCR tools (OCR libraries) employ several machine algorithms for pattern recognition to identify the presence and layout of the text in an image file."
   ]
  },
  {
   "cell_type": "markdown",
   "metadata": {},
   "source": [
    "The primary benefit of OCR technology is that **it automates manual and time-consuming data entry tasks**. This is because by using OCR, we can create digital documents that can be edited and stored per requirements. Automated, faster processing and conversion of paper-based documents into digital formats that accelerate workflows:\n",
    "\n",
    "- It saves time and reduces the scope of manual errors;\n",
    "\n",
    "- Eliminates the requirement for manual data entry;\n",
    "\n",
    "- Reduced manual data entry indicates reduced overall costs for the business;\n",
    "\n",
    "- It saves paper and storage space as more data can be converted to electronic format.\n",
    "\n",
    "https://it.wikipedia.org/wiki/Riconoscimento_ottico_dei_caratteri"
   ]
  },
  {
   "cell_type": "markdown",
   "metadata": {},
   "source": [
    "For this task, we are going to exploit **Keras library**: a powerful open-source library. The Keras-OCR library provides a high-level API and end-to-end training pipeline to build new OCR models."
   ]
  },
  {
   "cell_type": "code",
   "execution_count": 1,
   "metadata": {},
   "outputs": [
    {
     "ename": "ModuleNotFoundError",
     "evalue": "No module named 'keras_ocr'",
     "output_type": "error",
     "traceback": [
      "\u001b[0;31m---------------------------------------------------------------------------\u001b[0m",
      "\u001b[0;31mModuleNotFoundError\u001b[0m                       Traceback (most recent call last)",
      "Cell \u001b[0;32mIn[1], line 1\u001b[0m\n\u001b[0;32m----> 1\u001b[0m \u001b[38;5;28;01mimport\u001b[39;00m \u001b[38;5;21;01mkeras_ocr\u001b[39;00m\n",
      "\u001b[0;31mModuleNotFoundError\u001b[0m: No module named 'keras_ocr'"
     ]
    }
   ],
   "source": [
    "import keras_ocr"
   ]
  }
 ],
 "metadata": {
  "kernelspec": {
   "display_name": "textrec",
   "language": "python",
   "name": "python3"
  },
  "language_info": {
   "codemirror_mode": {
    "name": "ipython",
    "version": 3
   },
   "file_extension": ".py",
   "mimetype": "text/x-python",
   "name": "python",
   "nbconvert_exporter": "python",
   "pygments_lexer": "ipython3",
   "version": "3.11.10"
  }
 },
 "nbformat": 4,
 "nbformat_minor": 2
}
